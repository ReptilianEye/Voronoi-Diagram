{
 "cells": [
  {
   "cell_type": "code",
   "execution_count": 19,
   "metadata": {},
   "outputs": [],
   "source": [
    "from voronoi.fortune import Voronoi\n",
    "# import import_ipynb\n",
    "# from delaunay import voronoi, delaunay\n",
    "from voronoi.delaunay.delaunay import delaunay\n",
    "from voronoi.delaunay.voronoi import voronoi\n",
    "import numpy as np\n",
    "from voronoi.utils import generate_uniform_points\n",
    "import time\n",
    "import os\n",
    "import pandas as pd"
   ]
  },
  {
   "cell_type": "code",
   "execution_count": 20,
   "metadata": {},
   "outputs": [],
   "source": [
    "TEST_SPEC = [(-1, 1, 5), (-1, 1, 10), (-1, 1, 20), (-1, 1, 35), (-1, 1, 50), (-1, 1, 75), (-1, 1, 100),\n",
    "             (-5, 5, 150), (-5, 5, 200), (-5, 5, 300), (-5, 5, 400), (-10, 10, 500), (-20, 20, 1000)]\n",
    "# (-50, 50, 1500), (-50, 50, 2000), (-50, 50, 3000), (-50, 50, 3500), (-50, 50, 4000), (-50, 50, 4500), (-100, 100, 5000)]\n",
    "test_folder = 'tests'"
   ]
  },
  {
   "cell_type": "code",
   "execution_count": 21,
   "metadata": {},
   "outputs": [],
   "source": [
    "def read_test_data(new=False):\n",
    "    input_data = []\n",
    "    folder = test_folder + '/in'\n",
    "    if not os.path.exists(folder):\n",
    "        os.makedirs(folder)\n",
    "    for i, d in enumerate(TEST_SPEC):\n",
    "        # if file of name test{i} exists, read it\n",
    "        try:\n",
    "            if new:\n",
    "                raise Exception\n",
    "            with open(f\"{folder}/test{i}.in\", \"r\") as f:\n",
    "                lines = f.readlines()\n",
    "                # Get the number of points from the first line\n",
    "                num_points = int(lines[0])\n",
    "                points = np.array([tuple(map(float, line.split()))\n",
    "                                  for line in lines[1:]])\n",
    "                input_data.append(points)\n",
    "        except:\n",
    "            with open(f\"{folder}/test{i}.in\", \"w\") as f:\n",
    "                points = generate_uniform_points(*d)\n",
    "                num_points = len(points)  # Get the number of points\n",
    "                # Write the number of points at the start of the file\n",
    "                f.write(f\"{num_points}\\n\")\n",
    "                f.write(\"\\n\".join([\" \".join(map(str, p)) for p in points]))\n",
    "                input_data.append(points)\n",
    "    return input_data"
   ]
  },
  {
   "cell_type": "code",
   "execution_count": 22,
   "metadata": {},
   "outputs": [],
   "source": [
    "def run_tests(saveOutput=True, tested=['fortune', 'delaunay']):\n",
    "    test_data = read_test_data()\n",
    "    times = {}\n",
    "    # tests_n = 5\n",
    "    tests_n = len(test_data)\n",
    "    fortune = Voronoi()\n",
    "    for method in tested:\n",
    "        if not os.path.exists(f\"{test_folder}/out/{method}\"):\n",
    "            os.makedirs(f\"{test_folder}/out/{method}\")\n",
    "    for i in range(tests_n):\n",
    "        points = test_data[i]\n",
    "        for method in tested:\n",
    "            print(f\"Testing {method}, test #{i}, n={len(points)}...\")\n",
    "            start = time.time()\n",
    "            if method == 'fortune':\n",
    "                res = fortune.get_voronoi(points)\n",
    "            elif method == 'delaunay':\n",
    "                triang = delaunay(points)\n",
    "                res = voronoi(triang, points)\n",
    "            times[(i, method)] = time.time() - start\n",
    "            print(f\"Time elapsed: {times[(i, method)]}\")\n",
    "            if saveOutput:\n",
    "                with open(f\"{test_folder}/out/{method}/test{i}.out\", \"w\") as f:\n",
    "                    f.write(\"\\n\".join([\" \".join(map(str, p)) for p in res]))\n",
    "    return times"
   ]
  },
  {
   "cell_type": "code",
   "execution_count": 23,
   "metadata": {},
   "outputs": [],
   "source": [
    "def save_and_visualize(new=True):\n",
    "    if not new:\n",
    "        df = pd.read_csv(f'{test_folder}/times.csv')\n",
    "        n = df['n'].tolist()\n",
    "        fortune = df['Fortune [s]'].tolist()\n",
    "        delaunay = df['Delaunay [s]'].tolist()\n",
    "    else:\n",
    "        times = run_tests()\n",
    "        fortune = [times[(i, 'fortune')]\n",
    "                   for i, method in times if method == 'fortune']\n",
    "        delaunay = [times[(i, 'delaunay')]\n",
    "                    for i, method in times if method == 'delaunay']\n",
    "        n = [TEST_SPEC[i][2] for i in range(len(delaunay))]\n",
    "\n",
    "    data = []\n",
    "    for i in range(len(n)):\n",
    "        data.append([n[i], fortune[i], delaunay[i]])\n",
    "\n",
    "    df = pd.DataFrame(\n",
    "        data, columns=['n', 'Fortune [s]', 'Delaunay [s]'])\n",
    "    df.plot(x='n', y=['Fortune [s]',\n",
    "            'Delaunay [s]'], kind='line')\n",
    "    if new:\n",
    "        df.to_csv(f'{test_folder}/times.csv')\n",
    "    return df"
   ]
  },
  {
   "cell_type": "code",
   "execution_count": 24,
   "metadata": {},
   "outputs": [
    {
     "name": "stdout",
     "output_type": "stream",
     "text": [
      "Testing fortune, test #0, n=5...\n",
      "Time elapsed: 0.11704730987548828\n",
      "Testing delaunay, test #0, n=5...\n",
      "Time elapsed: 0.004837751388549805\n",
      "Testing fortune, test #1, n=10...\n"
     ]
    },
    {
     "name": "stdout",
     "output_type": "stream",
     "text": [
      "Time elapsed: 0.2615489959716797\n",
      "Testing delaunay, test #1, n=10...\n",
      "Time elapsed: 0.009349346160888672\n",
      "Testing fortune, test #2, n=20...\n",
      "Time elapsed: 0.5769846439361572\n",
      "Testing delaunay, test #2, n=20...\n",
      "Time elapsed: 0.01127934455871582\n",
      "Testing fortune, test #3, n=35...\n",
      "Time elapsed: 1.2058677673339844\n",
      "Testing delaunay, test #3, n=35...\n",
      "Time elapsed: 0.0331730842590332\n",
      "Testing fortune, test #4, n=50...\n",
      "Time elapsed: 2.6133852005004883\n",
      "Testing delaunay, test #4, n=50...\n",
      "Time elapsed: 0.040999412536621094\n",
      "Testing fortune, test #5, n=75...\n",
      "Time elapsed: 4.633727550506592\n",
      "Testing delaunay, test #5, n=75...\n",
      "Time elapsed: 0.08303451538085938\n",
      "Testing fortune, test #6, n=100...\n",
      "Time elapsed: 7.700474262237549\n",
      "Testing delaunay, test #6, n=100...\n",
      "Time elapsed: 0.17835569381713867\n",
      "Testing fortune, test #7, n=150...\n",
      "Time elapsed: 13.257596969604492\n",
      "Testing delaunay, test #7, n=150...\n",
      "Time elapsed: 0.1524500846862793\n",
      "Testing fortune, test #8, n=200...\n",
      "Time elapsed: 20.23344922065735\n",
      "Testing delaunay, test #8, n=200...\n",
      "Time elapsed: 0.1843857765197754\n",
      "Testing fortune, test #9, n=300...\n",
      "Time elapsed: 31.49301314353943\n",
      "Testing delaunay, test #9, n=300...\n",
      "Time elapsed: 0.32707738876342773\n",
      "Testing fortune, test #10, n=400...\n"
     ]
    }
   ],
   "source": [
    "df = save_and_visualize(True)\n",
    "df"
   ]
  }
 ],
 "metadata": {
  "kernelspec": {
   "display_name": "bit-alg",
   "language": "python",
   "name": "python3"
  },
  "language_info": {
   "codemirror_mode": {
    "name": "ipython",
    "version": 3
   },
   "file_extension": ".py",
   "mimetype": "text/x-python",
   "name": "python",
   "nbconvert_exporter": "python",
   "pygments_lexer": "ipython3",
   "version": "3.9.18"
  }
 },
 "nbformat": 4,
 "nbformat_minor": 2
}

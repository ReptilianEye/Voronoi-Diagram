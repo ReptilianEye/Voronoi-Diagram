{
 "cells": [
  {
   "cell_type": "markdown",
   "metadata": {},
   "source": [
    "# Wyznaczanie diagramu Voronoi poprzez triangulację Delaunay'a"
   ]
  },
  {
   "cell_type": "code",
   "execution_count": null,
   "metadata": {},
   "outputs": [],
   "source": [
    "# import numpy as np\n",
    "from bitalg.visualizer.main import Visualizer\n",
    "# from random import uniform\n",
    "from math import sqrt"
   ]
  },
  {
   "cell_type": "markdown",
   "metadata": {},
   "source": [
    "### Obiekty"
   ]
  },
  {
   "cell_type": "markdown",
   "metadata": {},
   "source": [
    "##### Klasa punktu"
   ]
  },
  {
   "cell_type": "code",
   "execution_count": null,
   "metadata": {},
   "outputs": [],
   "source": [
    "class Point:\n",
    "    def __init__(self, x, y):\n",
    "        self.x = x\n",
    "        self.y = y\n",
    "    \n",
    "    def __eq__(self, other):\n",
    "        return self.x == other.x and self.y == other.y\n",
    "    \n",
    "    def __hash__(self):\n",
    "        return hash((self.x, self.y))\n",
    "    \n",
    "    def distance(self, p):\n",
    "        return sqrt((self.x - p.x)**2 + (self.y - p.y)**2)"
   ]
  },
  {
   "cell_type": "markdown",
   "metadata": {},
   "source": [
    "##### Klasa trójkąta"
   ]
  },
  {
   "cell_type": "code",
   "execution_count": null,
   "metadata": {},
   "outputs": [],
   "source": [
    "def mat_det_3x3(p1, p2, p3):\n",
    "    return (p2.x - p1.x)*(p3.y - p2.y) - (p2.y - p1.y)*(p3.x - p2.x)\n",
    "    # return < 0 -> p3 po prawej stronie prostej (p1,p2)\n",
    "    # return < 0 -> punkty zgodnie z ruchem wskazówek zegara\n",
    "\n",
    "class Triangle:\n",
    "    def __init__(self, p1, p2, p3):\n",
    "        self.p1 = p1\n",
    "        self.p2 = p2\n",
    "        self.p3 = p3\n",
    "        self.o, self.R = self.set_circle()\n",
    "\n",
    "    def __contains__(self, p):\n",
    "        # Test if a point is in a triangle\n",
    "        a12 = mat_det_3x3(self.p1, self.p2, self.p3)\n",
    "        b12 = mat_det_3x3(self.p1, self.p2, p)\n",
    "        a23 = mat_det_3x3(self.p2, self.p3, self.p1)\n",
    "        b23 = mat_det_3x3(self.p2, self.p3, p)\n",
    "        a31 = mat_det_3x3(self.p3, self.p1, self.p2)\n",
    "        b31 = mat_det_3x3(self.p3, self.p1, p)\n",
    "        return (a12 * b12 >= 0) and (a23 * b23 >= 0) and (a31 * b31 >= 0)\n",
    "\n",
    "    def __eq__(self, other):\n",
    "        S_points = {self.p1, self.p2, self.p3}\n",
    "        O_points = {other.p1, other.p2, other.p3}\n",
    "        return S_points == O_points\n",
    "    \n",
    "    def set_circle(self):\n",
    "        s1 = self.p1.x**2 + self.p1.y**2\n",
    "        s2 = self.p2.x**2 + self.p2.y**2\n",
    "        s3 = self.p3.x**2 + self.p3.y**2\n",
    "        x13 = self.p1.x - self.p3.x\n",
    "        x32 = self.p3.x - self.p2.x\n",
    "        x21 = self.p2.x - self.p1.x\n",
    "        y12 = self.p1.y - self.p2.y\n",
    "        y23 = self.p2.y - self.p3.y\n",
    "        y31 = self.p3.y - self.p1.y\n",
    "        f = 2*(self.p1.x*y23 + self.p2.x*y31 + self.p3.x*y12)\n",
    "        # Środek okręgu opisanego na trójkącie ma środek:\n",
    "        x0 = (s1*y23 + s2*y31 * s3*y12)/f\n",
    "        y0 = (s1*x32 + s2*x13 * s3*x21)/f\n",
    "        # Promień okręgu opisanego na trójkącie wynosi:\n",
    "        R = sqrt((x21**2 + y12**2) * (x13**2 + y31**2) * (x32**2 + y23**2))/abs(f)\n",
    "        return Point(x0, y0), R\n",
    "\n",
    "    def in_circle(self, p):\n",
    "        if self.o.distance(p) < self.o.distance(self.p1):\n",
    "            return True\n",
    "        else:\n",
    "            return False\n",
    "        \n",
    "    # Sortuje punkty, aby były przeciwnie do ruchu wskzówek zegara, tak że p1 jest najniższym punktem (najbardziej po lewej)\n",
    "    def sort_tri_vertexes(self):\n",
    "        p1 = self.p1\n",
    "        p2 = self.p2\n",
    "        p3 = self.p3\n",
    "        if mat_det_3x3(p1, p2, p3) < 0:\n",
    "            p1, p2 = p2, p1\n",
    "        while(p1.y > min(p2.y, p3.y) or (p1.y == min(p2.y, p3.y) and p1.y != p2.y)):\n",
    "            p1, p2, p3 = p2, p3, p1\n",
    "        self.p1 = p1\n",
    "        self.p2 = p2\n",
    "        self.p3 = p3"
   ]
  },
  {
   "cell_type": "markdown",
   "metadata": {},
   "source": [
    "##### Klasa triangulacji"
   ]
  },
  {
   "cell_type": "code",
   "execution_count": null,
   "metadata": {},
   "outputs": [],
   "source": [
    "def sort_tri_vertexes(p1, p2, p3):\n",
    "        if mat_det_3x3(p1, p2, p3) < 0:\n",
    "            p1, p2 = p2, p1\n",
    "        while(p1.y > min(p2.y, p3.y) or (p1.y == min(p2.y, p3.y) and p1.y != p2.y)):\n",
    "            p1, p2, p3 = p2, p3, p1\n",
    "        return Triangle(p1, p2, p3)\n",
    "\n",
    "class Triangulation:\n",
    "    def __init__(self, P):\n",
    "        self.map_vertexes, self.central_point, self.central_triangle = self.get_triangulation_start(P)\n",
    "        self.edges = {}\n",
    "        # edges to słownik, gdzie kluczem są krawędzie, których punkty są w kolejności przeciwnej do ruchu wskazówek zegara w trójkącie\n",
    "        self.triangles = set()\n",
    "        # central_point -> start_tri\n",
    "    \n",
    "    def get_triangulation_start(self, P):\n",
    "        low_left = Point(float('inf'), float('inf'))\n",
    "        up_right = Point(float('-inf'), float('-inf'))\n",
    "        for p in P:\n",
    "            if p.x < low_left.x:\n",
    "                low_left.x = p.x\n",
    "            if p.x > up_right.x:\n",
    "                up_right.x = p.x\n",
    "            if p.y < low_left.y:\n",
    "                low_left.y = p.y\n",
    "            if p.y > up_right.y:\n",
    "                up_right.y = p.y\n",
    "        map_vertexes = [low_left, Point(up_right.x, low_left.y), up_right, Point(low_left.x, up_right.y)]\n",
    "        central_point = Point((low_left.x + up_right.x)/2, (low_left.y + up_right.y)/2 + 1e-2)\n",
    "        self.triangles.add(Triangle(low_left, Point(up_right.x, low_left.y), up_right))\n",
    "        self.triangles.add(Triangle(low_left, up_right, Point(low_left.x, up_right.y)))\n",
    "        for tri in self.triangles:\n",
    "            if central_point in tri:\n",
    "                central_triangle = tri\n",
    "            # already sorted\n",
    "            self.edges[(tri.p1, tri.p2)] = tri.p3\n",
    "            self.edges[(tri.p2, tri.p3)] = tri.p1\n",
    "            self.edges[(tri.p3, tri.p1)] = tri.p2\n",
    "        return map_vertexes, central_point, central_triangle\n",
    "\n",
    "    def find_adjacent_tri(self, edge):\n",
    "        if (edge[1], edge[0]) in self.edges:\n",
    "            return sort_tri_vertexes(edge[1], edge[0], self.edges[(edge[1], edge[0])])\n",
    "        return None\n",
    "    \n",
    "    def find_all_adjacent_tri(self, triangle):\n",
    "        tri_adjacent = set()\n",
    "        tri = self.find_adjacent_tri((triangle.p1, triangle.p2))\n",
    "        if tri:\n",
    "            tri_adjacent.add(tri)\n",
    "        tri = self.find_adjacent_tri((triangle.p2, triangle.p3))\n",
    "        if tri:\n",
    "            tri_adjacent.add(tri)\n",
    "        tri = self.find_adjacent_tri((triangle.p3, triangle.p1))\n",
    "        if tri:\n",
    "            tri_adjacent.add(tri)\n",
    "        return tri_adjacent"
   ]
  },
  {
   "cell_type": "markdown",
   "metadata": {},
   "source": [
    "### Funkcje pomocnicze funkcji delauney"
   ]
  },
  {
   "cell_type": "code",
   "execution_count": null,
   "metadata": {},
   "outputs": [],
   "source": [
    "def get_points(Points):\n",
    "    P = []\n",
    "    for point in Points:\n",
    "        P.append(Point(point[0], point[1]))\n",
    "    return P\n",
    "\n",
    "def find_containing(T, p):\n",
    "    curr_tri = T.central_triangle\n",
    "    tri_visited = set()\n",
    "    while p not in curr_tri:\n",
    "        tri_visited.add(curr_tri)\n",
    "        p1 = curr_tri.p1\n",
    "        p2 = curr_tri.p2\n",
    "        p3 = curr_tri.p3\n",
    "        if mat_det_3x3(p1, p2, p) < 0:\n",
    "            current = T.find_adjacent_tri((p1, p2))\n",
    "        elif mat_det_3x3(p2, p3, p) < 0:\n",
    "            current = T.find_adjacent_tri((p2, p3))\n",
    "        elif mat_det_3x3(p3, p1, p) < 0:\n",
    "            current = T.find_adjacent_tri((p3, p1))\n",
    "    return curr_tri\n",
    "\n",
    "def adjust_triangulation(tri_to_remove, p):\n",
    "    pass\n",
    "        "
   ]
  },
  {
   "cell_type": "markdown",
   "metadata": {},
   "source": [
    "### Główna funkcja delauney"
   ]
  },
  {
   "cell_type": "code",
   "execution_count": null,
   "metadata": {},
   "outputs": [],
   "source": [
    "def delauney(Points):\n",
    "    P = get_points(Points)\n",
    "    T = Triangulation(P)\n",
    "\n",
    "    for p in P:\n",
    "        containing_tri = find_containing(T, p)\n",
    "        tri_to_remove = [] # trójkąty do usunięcia\n",
    "        tri_visited = [] # odwiedzone trójkąty\n",
    "        stack = [containing_tri]\n",
    "\n",
    "        while len(stack) > 0:\n",
    "            curr_tri = stack.pop()\n",
    "            tri_visited.append(curr_tri)\n",
    "\n",
    "            if curr_tri.in_circle(p):\n",
    "                tri_to_remove.append(curr_tri)\n",
    "                tri_adjacent = T.find_all_adjacent_tri(curr_tri) # trójkąty sąsiadujące z curr_tri\n",
    "\n",
    "                for triangle in tri_adjacent:\n",
    "                    if triangle not in tri_visited and triangle not in stack:\n",
    "                        stack.append(triangle)\n",
    "            \n",
    "            adjust_triangulation(tri_to_remove, p)\n",
    "        "
   ]
  },
  {
   "cell_type": "markdown",
   "metadata": {},
   "source": [
    "### Dane testowe - delauney"
   ]
  },
  {
   "cell_type": "code",
   "execution_count": null,
   "metadata": {},
   "outputs": [],
   "source": []
  }
 ],
 "metadata": {
  "kernelspec": {
   "display_name": "Python 3",
   "language": "python",
   "name": "python3"
  },
  "language_info": {
   "codemirror_mode": {
    "name": "ipython",
    "version": 3
   },
   "file_extension": ".py",
   "mimetype": "text/x-python",
   "name": "python",
   "nbconvert_exporter": "python",
   "pygments_lexer": "ipython3",
   "version": "3.11.7"
  }
 },
 "nbformat": 4,
 "nbformat_minor": 2
}
